{
 "cells": [
  {
   "cell_type": "markdown",
   "id": "6cd8f914",
   "metadata": {},
   "source": [
    "## GPIO \n",
    "pinout: https://jetsonhacks.com/nvidia-jetson-orin-nano-gpio-header-pinout/"
   ]
  },
  {
   "cell_type": "code",
   "execution_count": 1,
   "id": "a6eda89f",
   "metadata": {},
   "outputs": [
    {
     "name": "stdout",
     "output_type": "stream",
     "text": [
      "Button Pressed!\n",
      "Button Pressed!\n",
      "Button Pressed!\n",
      "Button Pressed!\n",
      "Button Pressed!\n",
      "Button Pressed!\n",
      "Button Pressed!\n",
      "Button Pressed!\n",
      "Button Pressed!\n",
      "Button Pressed!\n",
      "Button Pressed!\n",
      "Button Pressed!\n",
      "Button Pressed!\n",
      "Button Pressed!\n"
     ]
    }
   ],
   "source": [
    "from Jetson import GPIO as GPIO\n",
    "import time\n",
    "\n",
    "#GPIO.cleanup()\n",
    "# Use physical pin numbering\n",
    "GPIO.setmode(GPIO.BOARD)\n",
    "\n",
    "# Pin 7 = GPIO09\n",
    "button_pin = 7\n",
    "\n",
    "# Set pin as input with pull-down\n",
    "GPIO.setup(button_pin, GPIO.IN)\n",
    "\n",
    "try:\n",
    "    while True:\n",
    "        GPIO.wait_for_edge(button_pin, GPIO.RISING)\n",
    "        print(\"Button Pressed!\")\n",
    "        \n",
    "\n",
    "except KeyboardInterrupt:\n",
    "    GPIO.cleanup()"
   ]
  }
 ],
 "metadata": {
  "kernelspec": {
   "display_name": ".venv",
   "language": "python",
   "name": "python3"
  },
  "language_info": {
   "codemirror_mode": {
    "name": "ipython",
    "version": 3
   },
   "file_extension": ".py",
   "mimetype": "text/x-python",
   "name": "python",
   "nbconvert_exporter": "python",
   "pygments_lexer": "ipython3",
   "version": "3.10.12"
  }
 },
 "nbformat": 4,
 "nbformat_minor": 5
}
