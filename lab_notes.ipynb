{
 "cells": [
  {
   "cell_type": "markdown",
   "id": "f54b6698",
   "metadata": {},
   "source": [
    "Random snippets of code from ICE's which will probably help with the project. From Lab 5 part 3:"
   ]
  },
  {
   "cell_type": "code",
   "execution_count": null,
   "id": "7a6c02bb",
   "metadata": {},
   "outputs": [],
   "source": [
    "'''Passes a request for weather from a certain location to an LLM.\n",
    "The LLM produces valid JSON that could be ingested to create an https post request.\n",
    "\n",
    "Modified from https://ollama.com/blog/structured-outputs\n",
    "'''\n",
    "from ollama import chat\n",
    "import sys\n",
    "\n",
    "\n",
    "prompt = sys.argv[1] # first argument after user_creation.py\n",
    "\n",
    "response = chat( # from terminal to the LLM \"prompt\" variable\n",
    "  messages=[\n",
    "    {\n",
    "      'role': 'user',\n",
    "      'content': \n",
    "      prompt\n",
    "    ,\n",
    "    },\n",
    "    {\n",
    "      'role': 'system',\n",
    "      'content': '''\n",
    "        Return your answer in one of four formats. The first format will be to reformatting the city name provided to replace spaces with a +. If the user says something\n",
    "        like: Can I get the weather from Los angeles?\n",
    "\n",
    "        you would return Los+Angeles\n",
    "        \n",
    "        The second format will be if the user provides a landmark instead of a city name.\n",
    "\n",
    "        you would return the name of a landmark with a tilda in front of it and then replace spaces with + in this case you would receive Los Angeles and return \n",
    "        something like ~Eiffel+Tower\n",
    "\n",
    "        . The third format will be if the user asks for the weather and provides a three letter airport \n",
    "        identifier code, in this case, you should return http://wttr.in/abc, where abc is the three letter code.\n",
    "      ''',\n",
    "    }\n",
    "  ],\n",
    "  model='gemma:2b',\n",
    ")\n",
    "\n",
    "#pets = User.model_validate_json(response.message.content)\n",
    "#print(pets)\n"
   ]
  }
 ],
 "metadata": {
  "language_info": {
   "name": "python"
  }
 },
 "nbformat": 4,
 "nbformat_minor": 5
}
