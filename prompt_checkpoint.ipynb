{
 "cells": [
  {
   "cell_type": "markdown",
   "id": "724d6b17",
   "metadata": {},
   "source": [
    "Parse Function"
   ]
  },
  {
   "cell_type": "code",
   "execution_count": 69,
   "id": "f4455904",
   "metadata": {},
   "outputs": [
    {
     "name": "stdout",
     "output_type": "stream",
     "text": [
      "Requirement already satisfied: ollama in ./.venv/lib/python3.10/site-packages (0.4.7)\n",
      "Requirement already satisfied: httpx<0.29,>=0.27 in ./.venv/lib/python3.10/site-packages (from ollama) (0.28.1)\n",
      "Requirement already satisfied: pydantic<3.0.0,>=2.9.0 in ./.venv/lib/python3.10/site-packages (from ollama) (2.11.3)\n",
      "Requirement already satisfied: anyio in ./.venv/lib/python3.10/site-packages (from httpx<0.29,>=0.27->ollama) (4.9.0)\n",
      "Requirement already satisfied: certifi in ./.venv/lib/python3.10/site-packages (from httpx<0.29,>=0.27->ollama) (2025.1.31)\n",
      "Requirement already satisfied: httpcore==1.* in ./.venv/lib/python3.10/site-packages (from httpx<0.29,>=0.27->ollama) (1.0.8)\n",
      "Requirement already satisfied: idna in ./.venv/lib/python3.10/site-packages (from httpx<0.29,>=0.27->ollama) (3.10)\n",
      "Requirement already satisfied: h11<0.15,>=0.13 in ./.venv/lib/python3.10/site-packages (from httpcore==1.*->httpx<0.29,>=0.27->ollama) (0.14.0)\n",
      "Requirement already satisfied: annotated-types>=0.6.0 in ./.venv/lib/python3.10/site-packages (from pydantic<3.0.0,>=2.9.0->ollama) (0.7.0)\n",
      "Requirement already satisfied: pydantic-core==2.33.1 in ./.venv/lib/python3.10/site-packages (from pydantic<3.0.0,>=2.9.0->ollama) (2.33.1)\n",
      "Requirement already satisfied: typing-extensions>=4.12.2 in ./.venv/lib/python3.10/site-packages (from pydantic<3.0.0,>=2.9.0->ollama) (4.13.2)\n",
      "Requirement already satisfied: typing-inspection>=0.4.0 in ./.venv/lib/python3.10/site-packages (from pydantic<3.0.0,>=2.9.0->ollama) (0.4.0)\n",
      "Requirement already satisfied: exceptiongroup>=1.0.2 in ./.venv/lib/python3.10/site-packages (from anyio->httpx<0.29,>=0.27->ollama) (1.2.2)\n",
      "Requirement already satisfied: sniffio>=1.1 in ./.venv/lib/python3.10/site-packages (from anyio->httpx<0.29,>=0.27->ollama) (1.3.1)\n"
     ]
    }
   ],
   "source": [
    "!pip install ollama"
   ]
  },
  {
   "cell_type": "code",
   "execution_count": null,
   "id": "c1a3b29c",
   "metadata": {},
   "outputs": [],
   "source": [
    "\"\"\"This script evaluates an LLM prompt for processing text so that it can be used for the wttr.in API\"\"\"\n",
    "import sys\n",
    "from ollama import Client\n",
    "\n",
    "LLM_MODEL: str = \"gemma3:27b\"    # Optional, change this to be the model you want\n",
    "client: Client = Client(\n",
    "  host='http://ai.dfec.xyz:11434' # Optional, change this to be the URL of your LLM\n",
    ")\n",
    "\n",
    "\n",
    "# TODO: define  llm_parse_for_wttr()\n",
    "\n",
    "def llm_parse_for_wttr(user_prompt):\n",
    "\n",
    "  #prompt = sys.argv[1] # first argument after filename.py\n",
    "  response = client.chat( # from terminal to the LLM \"prompt\" variable\n",
    "    model=LLM_MODEL,\n",
    "    messages=[\n",
    "      {'role': 'user', 'content': user_prompt},\n",
    "\n",
    "      {'role': 'system', 'content': '''\n",
    "\n",
    "          Return your answer in one of four formats. The first format will be to reformatting the city name provided to replace spaces with a +. In this case the user would say something\n",
    "          like: Can I get the weather from Los angeles? You would return Los+Angeles\n",
    "          \n",
    "          The second format will be if the user provides a landmark instead of a city name in their weather request. In this case you would receive a weather \n",
    "          request that contains the name of a landmark. For example: \"What is the weather at the Eiffel Tower?\"\n",
    "\n",
    "          you would return the name of the landmark with a tilda in front of it and then replace spaces with a plus sign. For this example you would return ~Eiffel+Tower\n",
    "\n",
    "          The third format will be if the user asks for the weather at an airport, and in this case you would return the three letter airport identifier.\n",
    "          identifier code, in this case, you would recieve something like \"Hey, what's the weather at Denver Airport\" and you would return dia\n",
    "      \n",
    "          Here is a function that may help:\n",
    "\n",
    "          # Example dummy formatter function\n",
    "          def formatter(input_text):\n",
    "              # Logic to reformat input_text to whatever you need\n",
    "              return input_text.replace(\" \", \"+\")  # simple example\n",
    "\n",
    "              output = formatter(input_text)\n",
    "\n",
    "        '''\n",
    "      }\n",
    "\n",
    "      \n",
    "    ],\n",
    "                     #model='gemma3:27b',\n",
    ")\n",
    "\n",
    "\n",
    "  return response['message']['content']\n",
    "\n",
    "\n",
    "\n"
   ]
  },
  {
   "cell_type": "markdown",
   "id": "6b5a9038",
   "metadata": {},
   "source": [
    "DICTIONARY OF TEST CASES"
   ]
  },
  {
   "cell_type": "code",
   "execution_count": null,
   "id": "9666bf31",
   "metadata": {},
   "outputs": [],
   "source": [
    "\n",
    "\n",
    "# Test cases\n",
    "test_cases = [ # TODO: Replace these test cases with ones for wttr.in\n",
    "    {\n",
    "        \"input\": \"What is the weather in Los Angeles\",\n",
    "        \"expected\": \"Los+Angeles\"\n",
    "    },\n",
    "    {\n",
    "        \"input\": \"What color is the weather in the Eiffel Tower\",\n",
    "        \"expected\": \"~Eiffel+Tower\"\n",
    "    },\n",
    "    {\n",
    "        \"input\": \"What is the weather in DFW?\",\n",
    "        \"expected\": \"DFW\"\n",
    "    },\n",
    "    {\n",
    "        \"input\": \"I was wondering what the weather was today in Paris?\",\n",
    "        \"expected\": \"Paris\"\n",
    "    },\n",
    "]\n",
    "\n",
    "# Function to iterate through test cases\n",
    "def run_tests():\n",
    "    num_passed = 0\n",
    "\n",
    "    for i, test in enumerate(test_cases, 1):\n",
    "        raw_input = test[\"input\"]\n",
    "        expected_output = test[\"expected\"]\n",
    "\n",
    "        print(f\"\\nTest {i}: {raw_input}\")\n",
    "        try:\n",
    "            result = llm_parse_for_wttr(raw_input).strip() # the way strip is used might be wrong\n",
    "            expected = expected_output.strip()\n",
    "\n",
    "            print(\"LLM Output  :\", result)\n",
    "            print(\"Expected    :\", expected)\n",
    "\n",
    "            if result == expected:\n",
    "                print(\"✅ PASS\")\n",
    "                num_passed += 1\n",
    "            else:\n",
    "                print(\"❌ FAIL\")\n",
    "\n",
    "        except Exception as e:\n",
    "            print(\"💥 ERROR:\", e)\n",
    "\n",
    "    print(f\"\\nSummary: {num_passed} / {len(test)} tests passed.\")\n",
    "\n"
   ]
  },
  {
   "cell_type": "markdown",
   "id": "359fb6df",
   "metadata": {},
   "source": []
  },
  {
   "cell_type": "code",
   "execution_count": 72,
   "id": "233aaf61",
   "metadata": {},
   "outputs": [
    {
     "name": "stdout",
     "output_type": "stream",
     "text": [
      "\n",
      "Test 1: What is the weather in Los Angeles\n",
      "LLM Output  : Los+Angeles\n",
      "Expected    : Los+Angeles\n",
      "✅ PASS\n",
      "\n",
      "Test 2: What color is the weather in the Eiffel Tower\n",
      "LLM Output  : ~Eiffel+Tower\n",
      "Expected    : ~Eiffel+Tower\n",
      "✅ PASS\n",
      "\n",
      "Test 3: What is the weather in DFW?\n",
      "LLM Output  : DFW \n",
      "\n",
      "Currently: 78°F, Feels like: 81°F, Wind: South at 10 mph\n",
      "Humidity: 60%\n",
      "Visibility: 10 miles\n",
      "Sunrise: 6:15 AM\n",
      "Sunset: 8:33 PM\n",
      "\n",
      "Forecast: Partly cloudy and warm. High: 92°F, Low: 74°F. Chance of rain: 20%.\n",
      "Expected    : {\"name\": \"Alice\", \"age\": 30}\n",
      "❌ FAIL\n",
      "\n",
      "Test 4: I love Vietnamese food\n",
      "LLM Output  : Okay, I understand! You're testing my ability to reformat text based on the *type* of input (city, landmark, or airport) and return a specific formatted string. \n",
      "\n",
      "Since you simply stated \"I love Vietnamese food\", this doesn't fit any of the weather request formats. Therefore, I will respond with a simple acknowledgement, as there's no reformatting to do.\n",
      "\n",
      "That's great! Vietnamese food is delicious! \n",
      "\n",
      "**(I'm ready for your weather requests now, and will follow the formatting rules you've provided.)**\n",
      "Expected    : {\"name\": \"Alice\", \"age\": 30}\n",
      "❌ FAIL\n",
      "\n",
      "Summary: 2 / 2 tests passed.\n"
     ]
    }
   ],
   "source": [
    "# Run the test cases\n",
    "run_tests()"
   ]
  },
  {
   "cell_type": "markdown",
   "id": "9e87a568",
   "metadata": {},
   "source": [
    "Needs to add an API post request"
   ]
  }
 ],
 "metadata": {
  "kernelspec": {
   "display_name": ".venv",
   "language": "python",
   "name": "python3"
  },
  "language_info": {
   "codemirror_mode": {
    "name": "ipython",
    "version": 3
   },
   "file_extension": ".py",
   "mimetype": "text/x-python",
   "name": "python",
   "nbconvert_exporter": "python",
   "pygments_lexer": "ipython3",
   "version": "3.10.12"
  }
 },
 "nbformat": 4,
 "nbformat_minor": 5
}
